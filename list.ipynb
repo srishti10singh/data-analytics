{
 "cells": [
  {
   "cell_type": "code",
   "execution_count": 1,
   "metadata": {},
   "outputs": [],
   "source": [
    "list1 = [\"Akhilesh\" , \"Aman\" , \"Rahul\" , \"Devansh\" , \"Rishabh\"]\n",
    "list2 = [1,2,3,4,5,6,7,8,9,10]\n",
    "list3 = [\"Ravi\",26,\"False\",100 ]\n",
    "list4 = [[2,3],[3,4,5,6,7],[7,8]]"
   ]
  },
  {
   "cell_type": "code",
   "execution_count": 13,
   "metadata": {},
   "outputs": [
    {
     "name": "stdout",
     "output_type": "stream",
     "text": [
      "list1 = [2, 4, 6, 'A', 10, 'B', 16, 'C', 20]\n",
      "list1[0] = 2\n",
      "list1[2]= list[2]\n",
      "list1[-1] list[-1]\n",
      "list1[-3] 16\n"
     ]
    }
   ],
   "source": [
    "list1 = [2,4,6,'A',10,'B',16,'C',20]\n",
    "print('list1 =',list1)\n",
    "print('list1[0] =',list1[0])\n",
    "print('list1[2]=',list[2])\n",
    "print('list1[-1]',list[-1])\n",
    "print('list1[-3]',list1[-3])"
   ]
  },
  {
   "cell_type": "code",
   "execution_count": 14,
   "metadata": {},
   "outputs": [
    {
     "name": "stdout",
     "output_type": "stream",
     "text": [
      "list[0]= 2\n"
     ]
    }
   ],
   "source": [
    "print('list[0]=',list1[0])"
   ]
  },
  {
   "cell_type": "code",
   "execution_count": 15,
   "metadata": {},
   "outputs": [
    {
     "name": "stdout",
     "output_type": "stream",
     "text": [
      "list1 = 6\n"
     ]
    }
   ],
   "source": [
    "print('list1 =',list1[2])"
   ]
  },
  {
   "cell_type": "code",
   "execution_count": 16,
   "metadata": {},
   "outputs": [
    {
     "name": "stdout",
     "output_type": "stream",
     "text": [
      "[40, 50, 60, 70, 80]\n"
     ]
    }
   ],
   "source": [
    "l = [ 10,20,30,40,50,60,70,80,90,100 ]\n",
    "slice1 = l[3:-2]\n",
    "print(slice1)"
   ]
  },
  {
   "cell_type": "code",
   "execution_count": 17,
   "metadata": {},
   "outputs": [
    {
     "name": "stdout",
     "output_type": "stream",
     "text": [
      "[60, 70, 80, 90, 100]\n",
      "[60, 70, 80, 90]\n"
     ]
    }
   ],
   "source": [
    "slice1= l[5:]\n",
    "slice2 = l[5:-1]\n",
    "print(slice1)\n",
    "print(slice2)"
   ]
  },
  {
   "cell_type": "code",
   "execution_count": 18,
   "metadata": {},
   "outputs": [
    {
     "data": {
      "text/plain": [
       "['apple', 'guava', 'cherry', 'banana']"
      ]
     },
     "execution_count": 18,
     "metadata": {},
     "output_type": "execute_result"
    }
   ],
   "source": [
    "fruits = []\n",
    "fruits.append(\"apple\")\n",
    "fruits.append(\"guava\")\n",
    "fruits.append(\"cherry\")\n",
    "fruits.append(\"banana\")\n",
    "fruits"
   ]
  },
  {
   "cell_type": "code",
   "execution_count": 19,
   "metadata": {},
   "outputs": [
    {
     "name": "stdout",
     "output_type": "stream",
     "text": [
      "['apple', 'orange', 'guava', 'cherry', 'banana']\n"
     ]
    }
   ],
   "source": [
    "fruits = [\"apple\" , \"guava\" , \"cherry\" , \"banana\"]\n",
    "fruits.insert(1,\"orange\")\n",
    "print(fruits)"
   ]
  },
  {
   "cell_type": "code",
   "execution_count": 20,
   "metadata": {},
   "outputs": [
    {
     "data": {
      "text/plain": [
       "['apple', 'orange', 'guava', 'cherry', 'banana', 'almond', 'cashew', 'walnut']"
      ]
     },
     "execution_count": 20,
     "metadata": {},
     "output_type": "execute_result"
    }
   ],
   "source": [
    "dry_fruits = ['almond' , 'cashew' , 'walnut' ]\n",
    "fruits.extend(dry_fruits)\n",
    "fruits"
   ]
  },
  {
   "cell_type": "code",
   "execution_count": 21,
   "metadata": {},
   "outputs": [
    {
     "data": {
      "text/plain": [
       "['apple', 'banana', 'cherry', 'guava']"
      ]
     },
     "execution_count": 21,
     "metadata": {},
     "output_type": "execute_result"
    }
   ],
   "source": [
    "fruits = ['cherry', 'guava' ,  'apple' , 'banana']\n",
    "fruits.sort()\n",
    "fruits"
   ]
  },
  {
   "cell_type": "code",
   "execution_count": 22,
   "metadata": {},
   "outputs": [
    {
     "data": {
      "text/plain": [
       "['apple', 'banana', 'guava']"
      ]
     },
     "execution_count": 22,
     "metadata": {},
     "output_type": "execute_result"
    }
   ],
   "source": [
    "fruits.remove('cherry')\n",
    "fruits"
   ]
  },
  {
   "cell_type": "code",
   "execution_count": 23,
   "metadata": {},
   "outputs": [
    {
     "data": {
      "text/plain": [
       "2"
      ]
     },
     "execution_count": 23,
     "metadata": {},
     "output_type": "execute_result"
    }
   ],
   "source": [
    "x = [1,2,3,4,5,6,6,7,8,9,1,3,5,8,9,]\n",
    "x.count(5)"
   ]
  }
 ],
 "metadata": {
  "kernelspec": {
   "display_name": "base",
   "language": "python",
   "name": "python3"
  },
  "language_info": {
   "codemirror_mode": {
    "name": "ipython",
    "version": 3
   },
   "file_extension": ".py",
   "mimetype": "text/x-python",
   "name": "python",
   "nbconvert_exporter": "python",
   "pygments_lexer": "ipython3",
   "version": "3.11.5"
  }
 },
 "nbformat": 4,
 "nbformat_minor": 2
}
